{
 "cells": [
  {
   "cell_type": "code",
   "execution_count": null,
   "metadata": {},
   "outputs": [],
   "source": [
    "from autogluon.tabular import TabularDataset, TabularPredictor\n",
    "import pandas as pd\n",
    "\n",
    "data = pd.read_csv('itamplify_train.csv')\n",
    "\n",
    "train, test = train_test_split(data, \n",
    "                                stratify=data['track_genre'],\n",
    "                                test_size=0.2,\n",
    "                                random_state=42)\n",
    "\n",
    "train, val = train_test_split(train,\n",
    "                                stratify=train['track_genre'],\n",
    "                                test_size=0.2,\n",
    "                                random_state=42)\n",
    "\n",
    "\n",
    "train_data = TabularDataset(train)\n",
    "val_data = TabularDataset(val)\n",
    "test_data = TabularDataset(test)\n",
    "\n",
    "label = 'track_genre'\n",
    "predictor = TabularPredictor(label=label).fit(train_data)"
   ]
  },
  {
   "cell_type": "code",
   "execution_count": null,
   "metadata": {},
   "outputs": [],
   "source": [
    "y_pred = predictor.predict(test_data)\n",
    "y_pred_proba = predictor.predict_proba(test_data)\n"
   ]
  },
  {
   "cell_type": "code",
   "execution_count": null,
   "metadata": {},
   "outputs": [],
   "source": [
    "predictor.evaluate(test_data)\n",
    "predictor.leaderboard(test_data)"
   ]
  },
  {
   "cell_type": "code",
   "execution_count": null,
   "metadata": {},
   "outputs": [],
   "source": [
    "predictor.feature_importance(test_data)"
   ]
  }
 ],
 "metadata": {
  "language_info": {
   "name": "python"
  }
 },
 "nbformat": 4,
 "nbformat_minor": 2
}
