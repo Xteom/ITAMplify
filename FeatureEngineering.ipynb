{
 "cells": [
  {
   "cell_type": "code",
   "execution_count": 3,
   "id": "f0bb1b97",
   "metadata": {},
   "outputs": [],
   "source": [
    "import pandas as pd\n",
    "from sklearn.model_selection import train_test_split\n",
    "from sklearn.linear_model import LogisticRegression\n",
    "import sklearn.metrics \n",
    "from sklearn.ensemble import RandomForestClassifier\n",
    "from sklearn.metrics import accuracy_score, precision_score, recall_score, f1_score, classification_report\n",
    "from langdetect import detect"
   ]
  },
  {
   "cell_type": "code",
   "execution_count": 4,
   "id": "fef5a318",
   "metadata": {},
   "outputs": [],
   "source": [
    "#leemos datos \n",
    "data = pd.read_csv('itamplify_train.csv')"
   ]
  },
  {
   "cell_type": "code",
   "execution_count": 5,
   "id": "3695bb81",
   "metadata": {},
   "outputs": [],
   "source": [
    "#Detectamos el idioma y creamos una nueva columna \n",
    "language = []\n",
    "for i in range(len(data)):\n",
    "    try:\n",
    "        lan = detect(data['track_name'][i])\n",
    "        language.append(lan)\n",
    "    except:\n",
    "        # Handle the case where language detection fails\n",
    "        language.append(\"Unknown\")\n",
    "\n",
    "data['language'] = language"
   ]
  },
  {
   "cell_type": "code",
   "execution_count": 6,
   "id": "6c5f2b5c",
   "metadata": {},
   "outputs": [],
   "source": [
    "# Define the language array\n",
    "languages = ['en', 'pt', 'it', 'hr', 'vi', 'id', 'hu', 'ro', 'es', 'et', 'nl',\n",
    "             'sw', 'no', 'fr', 'tl', 'cs', 'so', 'tr', 'ca', 'da', 'sk', 'de',\n",
    "             'fi', 'sl', 'pl', 'sv', 'cy', 'lt', 'af', 'Unknown', 'lv', 'ja',\n",
    "             'sq', 'ru', 'ko', 'uk', 'mk', 'zh-cn', 'zh-tw']\n",
    "\n",
    "# Get dummy variables\n",
    "language_dummies = pd.get_dummies(data['language'])\n",
    "\n",
    "# Ensure all languages in the array are represented in the dummy variables\n",
    "for language in languages:\n",
    "    if language not in language_dummies.columns:\n",
    "        language_dummies[language] = 0\n",
    "\n",
    "# Reorder columns to match original languages array\n",
    "language_dummies = language_dummies[languages]\n",
    "\n",
    "# Assign dummy variables back to DataFrame\n",
    "data = pd.concat([data, language_dummies], axis=1)"
   ]
  },
  {
   "cell_type": "code",
   "execution_count": 7,
   "id": "e9b9f67e",
   "metadata": {},
   "outputs": [],
   "source": [
    "data = data.drop(['X', 'track_id', 'artists', 'album_name', 'track_name','language'], axis=1)"
   ]
  },
  {
   "cell_type": "code",
   "execution_count": 8,
   "id": "8ba66a3c",
   "metadata": {},
   "outputs": [],
   "source": [
    "train, test = train_test_split(data, \n",
    "                                stratify=data['track_genre'],\n",
    "                                test_size=0.2,\n",
    "                                random_state=42)\n",
    "\n",
    "train, val = train_test_split(train,\n",
    "                                stratify=train['track_genre'],\n",
    "                                test_size=0.2,\n",
    "                                random_state=42)\n",
    "\n",
    "\n",
    "X_train = train.drop(columns=['track_genre'])\n",
    "y_train = train['track_genre']\n",
    "X_test = test.drop(columns=['track_genre'])\n",
    "y_test = test['track_genre']\n",
    "\n"
   ]
  },
  {
   "cell_type": "code",
   "execution_count": 9,
   "id": "3af08150",
   "metadata": {},
   "outputs": [
    {
     "name": "stdout",
     "output_type": "stream",
     "text": [
      "Accuracy: 0.6076178960096735\n",
      "Precision: 0.5985187637637999\n",
      "Recall: 0.6076178960096735\n",
      "F1 Score: 0.5899203404250069\n",
      "\n",
      "Classification Report:\n",
      "              precision    recall  f1-score   support\n",
      "\n",
      "    afrobeat       0.60      0.26      0.37        68\n",
      " alternative       0.46      0.31      0.37        72\n",
      "       blues       0.38      0.21      0.27       120\n",
      "   classical       0.77      0.66      0.71        50\n",
      "     country       0.56      0.24      0.34        58\n",
      "       disco       0.55      0.60      0.58       139\n",
      "        folk       0.45      0.52      0.48       153\n",
      "        funk       0.74      0.69      0.71       126\n",
      " heavy-metal       0.62      0.82      0.71        84\n",
      "     hip-hop       0.56      0.83      0.67       115\n",
      "        jazz       0.54      0.28      0.37        54\n",
      "  psych-rock       0.53      0.65      0.58       172\n",
      "   reggaeton       0.59      0.51      0.55        74\n",
      "       samba       0.80      0.90      0.85       195\n",
      "      techno       0.72      0.79      0.75       174\n",
      "\n",
      "    accuracy                           0.61      1654\n",
      "   macro avg       0.59      0.55      0.55      1654\n",
      "weighted avg       0.60      0.61      0.59      1654\n",
      "\n"
     ]
    }
   ],
   "source": [
    "#RANDOM FOREST \n",
    "rfc = RandomForestClassifier(n_estimators=100, random_state=42)\n",
    "\n",
    "\n",
    "rfc.fit(X_train, y_train)\n",
    "\n",
    "\n",
    "predictions = rfc.predict(X_test)\n",
    "\n",
    "\n",
    "accuracy = accuracy_score(y_test, predictions)\n",
    "precision = precision_score(y_test, predictions, average='weighted')\n",
    "recall = recall_score(y_test, predictions, average='weighted')\n",
    "f1 = f1_score(y_test, predictions, average='weighted')\n",
    "\n",
    "print(\"Accuracy:\", accuracy)\n",
    "print(\"Precision:\", precision)\n",
    "print(\"Recall:\", recall)\n",
    "print(\"F1 Score:\", f1)\n",
    "\n",
    "print(\"\\nClassification Report:\")\n",
    "print(classification_report(y_test, predictions))"
   ]
  },
  {
   "cell_type": "code",
   "execution_count": null,
   "id": "3ac67376",
   "metadata": {},
   "outputs": [],
   "source": []
  }
 ],
 "metadata": {
  "kernelspec": {
   "display_name": "Python 3 (ipykernel)",
   "language": "python",
   "name": "python3"
  },
  "language_info": {
   "codemirror_mode": {
    "name": "ipython",
    "version": 3
   },
   "file_extension": ".py",
   "mimetype": "text/x-python",
   "name": "python",
   "nbconvert_exporter": "python",
   "pygments_lexer": "ipython3",
   "version": "3.9.12"
  }
 },
 "nbformat": 4,
 "nbformat_minor": 5
}
