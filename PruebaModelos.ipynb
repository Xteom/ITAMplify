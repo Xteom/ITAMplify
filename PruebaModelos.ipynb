{
 "cells": [
  {
   "cell_type": "code",
   "execution_count": 35,
   "id": "fcf602bf",
   "metadata": {},
   "outputs": [],
   "source": [
    "import pandas as pd\n",
    "from sklearn.model_selection import train_test_split\n",
    "from sklearn.linear_model import LogisticRegression\n",
    "import sklearn.metrics \n",
    "from sklearn.ensemble import RandomForestClassifier\n",
    "from sklearn.metrics import accuracy_score, precision_score, recall_score, f1_score, classification_report"
   ]
  },
  {
   "cell_type": "code",
   "execution_count": 34,
   "id": "70b32f8b",
   "metadata": {},
   "outputs": [],
   "source": [
    "data = pd.read_csv('itamplify_train.csv')\n",
    "data = data.drop(['X', 'track_id', 'artists', 'album_name', 'track_name'], axis=1)\n",
    "\n",
    "train, test = train_test_split(data, \n",
    "                                stratify=data['track_genre'],\n",
    "                                test_size=0.2,\n",
    "                                random_state=42)\n",
    "\n",
    "train, val = train_test_split(train,\n",
    "                                stratify=train['track_genre'],\n",
    "                                test_size=0.2,\n",
    "                                random_state=42)\n",
    "\n",
    "\n",
    "X_train = train.drop(columns=['track_genre'])\n",
    "y_train = train['track_genre']\n",
    "X_test = test.drop(columns=['track_genre'])\n",
    "y_test = test['track_genre']\n"
   ]
  },
  {
   "cell_type": "code",
   "execution_count": 31,
   "id": "df01f000",
   "metadata": {},
   "outputs": [
    {
     "name": "stdout",
     "output_type": "stream",
     "text": [
      "Accuracy: 0.16505441354292624\n",
      "              precision    recall  f1-score   support\n",
      "\n",
      "    afrobeat       0.00      0.00      0.00        68\n",
      " alternative       0.00      0.00      0.00        72\n",
      "       blues       0.00      0.00      0.00       120\n",
      "   classical       0.00      0.00      0.00        50\n",
      "     country       0.00      0.00      0.00        58\n",
      "       disco       0.00      0.00      0.00       139\n",
      "        folk       0.11      0.06      0.08       153\n",
      "        funk       0.00      0.00      0.00       126\n",
      " heavy-metal       0.00      0.00      0.00        84\n",
      "     hip-hop       0.00      0.00      0.00       115\n",
      "        jazz       0.00      0.00      0.00        54\n",
      "  psych-rock       0.12      0.20      0.15       172\n",
      "   reggaeton       0.00      0.00      0.00        74\n",
      "       samba       0.16      0.70      0.26       195\n",
      "      techno       0.22      0.53      0.31       174\n",
      "\n",
      "    accuracy                           0.17      1654\n",
      "   macro avg       0.04      0.10      0.05      1654\n",
      "weighted avg       0.06      0.17      0.09      1654\n",
      "\n"
     ]
    },
    {
     "name": "stderr",
     "output_type": "stream",
     "text": [
      "/opt/anaconda3/lib/python3.9/site-packages/sklearn/metrics/_classification.py:1318: UndefinedMetricWarning: Precision and F-score are ill-defined and being set to 0.0 in labels with no predicted samples. Use `zero_division` parameter to control this behavior.\n",
      "  _warn_prf(average, modifier, msg_start, len(result))\n",
      "/opt/anaconda3/lib/python3.9/site-packages/sklearn/metrics/_classification.py:1318: UndefinedMetricWarning: Precision and F-score are ill-defined and being set to 0.0 in labels with no predicted samples. Use `zero_division` parameter to control this behavior.\n",
      "  _warn_prf(average, modifier, msg_start, len(result))\n",
      "/opt/anaconda3/lib/python3.9/site-packages/sklearn/metrics/_classification.py:1318: UndefinedMetricWarning: Precision and F-score are ill-defined and being set to 0.0 in labels with no predicted samples. Use `zero_division` parameter to control this behavior.\n",
      "  _warn_prf(average, modifier, msg_start, len(result))\n"
     ]
    }
   ],
   "source": [
    "#REGRESION LOGISTICA\n",
    "\n",
    "logistic_model = LogisticRegression(multi_class='multinomial', max_iter=1000)\n",
    "logistic_model.fit(X_train, y_train)\n",
    "\n",
    "\n",
    "predictions = logistic_model.predict(X_test)\n",
    "\n",
    "\n",
    "accuracy = accuracy_score(y_test, predictions)\n",
    "print(\"Accuracy:\", accuracy)\n",
    "\n",
    "\n",
    "print(classification_report(y_test, predictions))"
   ]
  },
  {
   "cell_type": "code",
   "execution_count": 37,
   "id": "657fcc55",
   "metadata": {},
   "outputs": [
    {
     "name": "stdout",
     "output_type": "stream",
     "text": [
      "Accuracy: 0.5761789600967352\n",
      "Precision: 0.5621710311234435\n",
      "Recall: 0.5761789600967352\n",
      "F1 Score: 0.5581072112718198\n",
      "\n",
      "Classification Report:\n",
      "              precision    recall  f1-score   support\n",
      "\n",
      "    afrobeat       0.51      0.31      0.39        68\n",
      " alternative       0.50      0.42      0.45        72\n",
      "       blues       0.40      0.18      0.25       120\n",
      "   classical       0.72      0.66      0.69        50\n",
      "     country       0.53      0.31      0.39        58\n",
      "       disco       0.53      0.58      0.55       139\n",
      "        folk       0.40      0.42      0.41       153\n",
      "        funk       0.68      0.64      0.66       126\n",
      " heavy-metal       0.62      0.81      0.70        84\n",
      "     hip-hop       0.55      0.79      0.65       115\n",
      "        jazz       0.43      0.17      0.24        54\n",
      "  psych-rock       0.50      0.57      0.53       172\n",
      "   reggaeton       0.52      0.42      0.46        74\n",
      "       samba       0.68      0.86      0.76       195\n",
      "      techno       0.74      0.80      0.77       174\n",
      "\n",
      "    accuracy                           0.58      1654\n",
      "   macro avg       0.55      0.53      0.53      1654\n",
      "weighted avg       0.56      0.58      0.56      1654\n",
      "\n"
     ]
    }
   ],
   "source": [
    "#RANDOM FOREST \n",
    "rfc = RandomForestClassifier(n_estimators=100, random_state=42)\n",
    "\n",
    "\n",
    "rfc.fit(X_train, y_train)\n",
    "\n",
    "\n",
    "predictions = rfc.predict(X_test)\n",
    "\n",
    "\n",
    "accuracy = accuracy_score(y_test, predictions)\n",
    "precision = precision_score(y_test, predictions, average='weighted')\n",
    "recall = recall_score(y_test, predictions, average='weighted')\n",
    "f1 = f1_score(y_test, predictions, average='weighted')\n",
    "\n",
    "print(\"Accuracy:\", accuracy)\n",
    "print(\"Precision:\", precision)\n",
    "print(\"Recall:\", recall)\n",
    "print(\"F1 Score:\", f1)\n",
    "\n",
    "print(\"\\nClassification Report:\")\n",
    "print(classification_report(y_test, predictions))\n"
   ]
  },
  {
   "cell_type": "code",
   "execution_count": null,
   "id": "98b9cd1f",
   "metadata": {},
   "outputs": [],
   "source": []
  }
 ],
 "metadata": {
  "kernelspec": {
   "display_name": "Python 3 (ipykernel)",
   "language": "python",
   "name": "python3"
  },
  "language_info": {
   "codemirror_mode": {
    "name": "ipython",
    "version": 3
   },
   "file_extension": ".py",
   "mimetype": "text/x-python",
   "name": "python",
   "nbconvert_exporter": "python",
   "pygments_lexer": "ipython3",
   "version": "3.9.12"
  }
 },
 "nbformat": 4,
 "nbformat_minor": 5
}
