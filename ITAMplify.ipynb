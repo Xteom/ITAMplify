{
 "cells": [
  {
   "cell_type": "code",
   "execution_count": 1,
   "metadata": {},
   "outputs": [
    {
     "name": "stderr",
     "output_type": "stream",
     "text": [
      "c:\\Users\\mateo\\miniconda3\\envs\\autogluon\\lib\\site-packages\\tqdm\\auto.py:21: TqdmWarning: IProgress not found. Please update jupyter and ipywidgets. See https://ipywidgets.readthedocs.io/en/stable/user_install.html\n",
      "  from .autonotebook import tqdm as notebook_tqdm\n"
     ]
    }
   ],
   "source": [
    "from autogluon.tabular import TabularDataset, TabularPredictor\n",
    "from sklearn.model_selection import train_test_split, KFold, cross_val_score, GridSearchCV, StratifiedGroupKFold\n",
    "import numpy as np\n",
    "import pandas as pd"
   ]
  },
  {
   "cell_type": "code",
   "execution_count": 2,
   "metadata": {},
   "outputs": [],
   "source": [
    "data = pd.read_csv('itamplify_train.csv')\n",
    "\n",
    "train, test = train_test_split(data, \n",
    "                                stratify=data['track_genre'],\n",
    "                                test_size=0.2,\n",
    "                                random_state=42)\n",
    "\n",
    "train, val = train_test_split(train,\n",
    "                                stratify=train['track_genre'],\n",
    "                                test_size=0.2,\n",
    "                                random_state=42)\n"
   ]
  },
  {
   "cell_type": "code",
   "execution_count": 3,
   "metadata": {},
   "outputs": [
    {
     "name": "stdout",
     "output_type": "stream",
     "text": [
      "---train---\n",
      "observaciones train: 111069\n",
      "track_genre\n",
      "samba          0.117792\n",
      "techno         0.105124\n",
      "psych-rock     0.103989\n",
      "folk           0.092645\n",
      "disco          0.083570\n",
      "funk           0.076007\n",
      "blues          0.072982\n",
      "hip-hop        0.069200\n",
      "heavy-metal    0.050482\n",
      "reggaeton      0.044999\n",
      "alternative    0.043297\n",
      "afrobeat       0.041407\n",
      "country        0.035356\n",
      "jazz           0.032709\n",
      "classical      0.030441\n",
      "Name: proportion, dtype: float64\n"
     ]
    }
   ],
   "source": [
    "print(\"---train---\")\n",
    "print(f\"observaciones train: {train.size}\")\n",
    "print(train['track_genre'].value_counts(normalize=True))\n"
   ]
  },
  {
   "cell_type": "code",
   "execution_count": 4,
   "metadata": {},
   "outputs": [
    {
     "name": "stdout",
     "output_type": "stream",
     "text": [
      "---val---\n",
      "observaciones train: 27783\n",
      "track_genre\n",
      "samba          0.117914\n",
      "techno         0.105064\n",
      "psych-rock     0.103553\n",
      "folk           0.092971\n",
      "disco          0.083900\n",
      "funk           0.076342\n",
      "blues          0.072562\n",
      "hip-hop        0.069539\n",
      "heavy-metal    0.050642\n",
      "reggaeton      0.045351\n",
      "alternative    0.043084\n",
      "afrobeat       0.040816\n",
      "country        0.035525\n",
      "jazz           0.032502\n",
      "classical      0.030234\n",
      "Name: proportion, dtype: float64\n"
     ]
    }
   ],
   "source": [
    "print(\"---val---\")\n",
    "print(f\"observaciones train: {val.size}\")\n",
    "print(val['track_genre'].value_counts(normalize=True))\n"
   ]
  },
  {
   "cell_type": "code",
   "execution_count": 5,
   "metadata": {},
   "outputs": [
    {
     "name": "stdout",
     "output_type": "stream",
     "text": [
      "---test---\n",
      "observaciones test: 34734\n",
      "track_genre\n",
      "samba          0.117896\n",
      "techno         0.105200\n",
      "psych-rock     0.103990\n",
      "folk           0.092503\n",
      "disco          0.084039\n",
      "funk           0.076179\n",
      "blues          0.072551\n",
      "hip-hop        0.069528\n",
      "heavy-metal    0.050786\n",
      "reggaeton      0.044740\n",
      "alternative    0.043531\n",
      "afrobeat       0.041112\n",
      "country        0.035067\n",
      "jazz           0.032648\n",
      "classical      0.030230\n",
      "Name: proportion, dtype: float64\n"
     ]
    }
   ],
   "source": [
    "print(\"---test---\")\n",
    "print(f\"observaciones test: {test.size}\")\n",
    "print(test['track_genre'].value_counts(normalize=True))"
   ]
  },
  {
   "cell_type": "code",
   "execution_count": null,
   "metadata": {},
   "outputs": [],
   "source": [
    "def encode_genres(data):\n",
    "    \"\"\"\n",
    "    Converts the 'track_genre' column to one-hot encoded format.\n",
    "\n",
    "    Parameters:\n",
    "    - data (pd.DataFrame): DataFrame containing the 'track_genre' column.\n",
    "\n",
    "    Returns:\n",
    "    - pd.DataFrame: Modified DataFrame with 'track_genre' replaced by one-hot encoded columns.\n",
    "    \"\"\"\n",
    "    # Create one-hot encoded variables\n",
    "    genre_dummies = pd.get_dummies(data['track_genre'], prefix='genre')\n",
    "    \n",
    "    # Drop the original 'track_genre' column\n",
    "    data = data.drop('track_genre', axis=1)\n",
    "    \n",
    "    # Concatenate the original DataFrame and the new one-hot encoded DataFrame\n",
    "    data_encoded = pd.concat([data, genre_dummies], axis=1)\n",
    "    \n",
    "    return data_encoded"
   ]
  },
  {
   "cell_type": "code",
   "execution_count": null,
   "metadata": {},
   "outputs": [],
   "source": [
    "train = encode_genres(train)\n",
    "val = encode_genres(val)\n",
    "test = encode_genres(test)"
   ]
  },
  {
   "cell_type": "code",
   "execution_count": 1,
   "metadata": {},
   "outputs": [
    {
     "ename": "ModuleNotFoundError",
     "evalue": "No module named 'autogluon.eda'",
     "output_type": "error",
     "traceback": [
      "\u001b[1;31m---------------------------------------------------------------------------\u001b[0m",
      "\u001b[1;31mModuleNotFoundError\u001b[0m                       Traceback (most recent call last)",
      "Cell \u001b[1;32mIn[1], line 1\u001b[0m\n\u001b[1;32m----> 1\u001b[0m \u001b[38;5;28;01mimport\u001b[39;00m \u001b[38;5;21;01mautogluon\u001b[39;00m\u001b[38;5;21;01m.\u001b[39;00m\u001b[38;5;21;01meda\u001b[39;00m\u001b[38;5;21;01m.\u001b[39;00m\u001b[38;5;21;01mauto\u001b[39;00m \u001b[38;5;28;01mas\u001b[39;00m \u001b[38;5;21;01mauto\u001b[39;00m\n\u001b[0;32m      3\u001b[0m all_train \u001b[38;5;241m=\u001b[39m pd\u001b[38;5;241m.\u001b[39mconcat([train, val], ignore_index\u001b[38;5;241m=\u001b[39m\u001b[38;5;28;01mTrue\u001b[39;00m)\u001b[38;5;241m.\u001b[39mcopy()\n\u001b[0;32m      4\u001b[0m all_train\n",
      "\u001b[1;31mModuleNotFoundError\u001b[0m: No module named 'autogluon.eda'"
     ]
    }
   ],
   "source": [
    "import autogluon.eda.auto as auto\n",
    "\n",
    "all_train = pd.concat([train, val], ignore_index=True).copy()\n",
    "all_train\n",
    "\n"
   ]
  },
  {
   "cell_type": "code",
   "execution_count": null,
   "metadata": {},
   "outputs": [],
   "source": []
  }
 ],
 "metadata": {
  "kernelspec": {
   "display_name": "itam",
   "language": "python",
   "name": "python3"
  },
  "language_info": {
   "codemirror_mode": {
    "name": "ipython",
    "version": 3
   },
   "file_extension": ".py",
   "mimetype": "text/x-python",
   "name": "python",
   "nbconvert_exporter": "python",
   "pygments_lexer": "ipython3",
   "version": "3.10.14"
  }
 },
 "nbformat": 4,
 "nbformat_minor": 2
}
