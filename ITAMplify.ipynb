{
 "cells": [
  {
   "cell_type": "code",
   "execution_count": 3,
   "metadata": {},
   "outputs": [],
   "source": [
    "from autogluon.tabular import TabularDataset, TabularPredictor\n",
    "from sklearn.model_selection import train_test_split, KFold, cross_val_score, GridSearchCV, StratifiedGroupKFold\n",
    "import numpy as np\n",
    "import pandas as pd"
   ]
  },
  {
   "cell_type": "code",
   "execution_count": 13,
   "metadata": {},
   "outputs": [],
   "source": [
    "data = pd.read_csv('itamplify_train.csv')\n",
    "\n",
    "train, test = train_test_split(data, \n",
    "                                stratify=data['track_genre'],\n",
    "                                test_size=0.2,\n",
    "                                random_state=42)\n",
    "\n",
    "train, val = train_test_split(train,\n",
    "                                stratify=train['track_genre'],\n",
    "                                test_size=0.2,\n",
    "                                random_state=42)\n"
   ]
  },
  {
   "cell_type": "code",
   "execution_count": 20,
   "metadata": {},
   "outputs": [
    {
     "name": "stdout",
     "output_type": "stream",
     "text": [
      "---train---\n",
      "observaciones train: 111069\n",
      "samba          0.117792\n",
      "techno         0.105124\n",
      "psych-rock     0.103989\n",
      "folk           0.092645\n",
      "disco          0.083570\n",
      "funk           0.076007\n",
      "blues          0.072982\n",
      "hip-hop        0.069200\n",
      "heavy-metal    0.050482\n",
      "reggaeton      0.044999\n",
      "alternative    0.043297\n",
      "afrobeat       0.041407\n",
      "country        0.035356\n",
      "jazz           0.032709\n",
      "classical      0.030441\n",
      "Name: track_genre, dtype: float64\n"
     ]
    }
   ],
   "source": [
    "print(\"---train---\")\n",
    "print(f\"observaciones train: {train.size}\")\n",
    "print(train['track_genre'].value_counts(normalize=True))\n"
   ]
  },
  {
   "cell_type": "code",
   "execution_count": 21,
   "metadata": {},
   "outputs": [
    {
     "name": "stdout",
     "output_type": "stream",
     "text": [
      "---val---\n",
      "observaciones train: 27783\n",
      "samba          0.117914\n",
      "techno         0.105064\n",
      "psych-rock     0.103553\n",
      "folk           0.092971\n",
      "disco          0.083900\n",
      "funk           0.076342\n",
      "blues          0.072562\n",
      "hip-hop        0.069539\n",
      "heavy-metal    0.050642\n",
      "reggaeton      0.045351\n",
      "alternative    0.043084\n",
      "afrobeat       0.040816\n",
      "country        0.035525\n",
      "jazz           0.032502\n",
      "classical      0.030234\n",
      "Name: track_genre, dtype: float64\n"
     ]
    }
   ],
   "source": [
    "print(\"---val---\")\n",
    "print(f\"observaciones train: {val.size}\")\n",
    "print(val['track_genre'].value_counts(normalize=True))\n"
   ]
  },
  {
   "cell_type": "code",
   "execution_count": 22,
   "metadata": {},
   "outputs": [
    {
     "name": "stdout",
     "output_type": "stream",
     "text": [
      "---test---\n",
      "observaciones test: 34734\n",
      "samba          0.117896\n",
      "techno         0.105200\n",
      "psych-rock     0.103990\n",
      "folk           0.092503\n",
      "disco          0.084039\n",
      "funk           0.076179\n",
      "blues          0.072551\n",
      "hip-hop        0.069528\n",
      "heavy-metal    0.050786\n",
      "reggaeton      0.044740\n",
      "alternative    0.043531\n",
      "afrobeat       0.041112\n",
      "country        0.035067\n",
      "jazz           0.032648\n",
      "classical      0.030230\n",
      "Name: track_genre, dtype: float64\n"
     ]
    }
   ],
   "source": [
    "print(\"---test---\")\n",
    "print(f\"observaciones test: {test.size}\")\n",
    "print(test['track_genre'].value_counts(normalize=True))"
   ]
  },
  {
   "cell_type": "code",
   "execution_count": null,
   "metadata": {},
   "outputs": [],
   "source": []
  }
 ],
 "metadata": {
  "kernelspec": {
   "display_name": "itam",
   "language": "python",
   "name": "python3"
  },
  "language_info": {
   "codemirror_mode": {
    "name": "ipython",
    "version": 3
   },
   "file_extension": ".py",
   "mimetype": "text/x-python",
   "name": "python",
   "nbconvert_exporter": "python",
   "pygments_lexer": "ipython3",
   "version": "3.10.13"
  }
 },
 "nbformat": 4,
 "nbformat_minor": 2
}
